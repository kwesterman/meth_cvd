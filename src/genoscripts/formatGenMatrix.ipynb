{
 "cells": [
  {
   "cell_type": "code",
   "execution_count": 1,
   "metadata": {},
   "outputs": [],
   "source": [
    "keepIDs = []\n",
    "with open(\"../int/idsWithGenotypesAndMethylation.txt\", \"r\") as f:\n",
    "    for line in f:\n",
    "        keepIDs.append(line.strip())"
   ]
  },
  {
   "cell_type": "code",
   "execution_count": 2,
   "metadata": {},
   "outputs": [],
   "source": [
    "with open(\"../int/finalGenos/pruned.raw\", \"r\") as inMat, open(\"../int/prunedGenos.csv\", \"w\") as outMat:\n",
    "    for line in inMat:\n",
    "        callList = line.strip().split(' ')\n",
    "        if callList[0] == \"FID\":\n",
    "            callList[0] = \"subjID\"\n",
    "            del callList[1:6]\n",
    "            outMat.write(','.join(callList)+'\\n')\n",
    "        elif callList[0] in keepIDs:\n",
    "            del callList[1:6]\n",
    "            outMat.write(','.join(callList)+'\\n')\n",
    "        else:\n",
    "            continue\n"
   ]
  },
  {
   "cell_type": "code",
   "execution_count": null,
   "metadata": {},
   "outputs": [],
   "source": []
  }
 ],
 "metadata": {
  "kernelspec": {
   "display_name": "Python 2",
   "language": "python",
   "name": "python2"
  },
  "language_info": {
   "codemirror_mode": {
    "name": "ipython",
    "version": 2
   },
   "file_extension": ".py",
   "mimetype": "text/x-python",
   "name": "python",
   "nbconvert_exporter": "python",
   "pygments_lexer": "ipython2",
   "version": "2.7.14"
  }
 },
 "nbformat": 4,
 "nbformat_minor": 2
}
