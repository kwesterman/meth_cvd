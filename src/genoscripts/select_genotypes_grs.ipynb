{
 "cells": [
  {
   "cell_type": "code",
   "execution_count": 1,
   "metadata": {},
   "outputs": [],
   "source": [
    "import numpy as np\n",
    "import pandas as pd"
   ]
  },
  {
   "cell_type": "code",
   "execution_count": 2,
   "metadata": {},
   "outputs": [],
   "source": [
    "with open(\"../int/unprunedGenos.csv\", \"r\") as f:\n",
    "    snp_list = f.next().strip().split(',')\n",
    "with open(\"../int/grsLoci.txt\", \"r\") as f:\n",
    "    grs_loci = [g.strip() for g in f]\n",
    "# grs_idxs = np.where(np.isin(snp_list, grs_loci))\n",
    "grs_idxs = [i for i, loc in enumerate(snp_list) if loc[:-2] in grs_loci]"
   ]
  },
  {
   "cell_type": "code",
   "execution_count": null,
   "metadata": {},
   "outputs": [],
   "source": [
    "genos = []\n",
    "ids = []\n",
    "with open(\"../int/unprunedGenos.csv\", \"r\") as f:\n",
    "    f.next()\n",
    "    for line in f:\n",
    "        row = np.array(line.strip().split(','))\n",
    "        ids.append(row[0])\n",
    "        genos.append(row[grs_idxs])"
   ]
  },
  {
   "cell_type": "code",
   "execution_count": null,
   "metadata": {},
   "outputs": [],
   "source": [
    "grs_genos = pd.DataFrame(genos, columns=np.array(snp_list)[grs_idxs], index=ids)\n",
    "grs_genos.to_csv(\"../int/cvd_grs_genos.csv\")"
   ]
  },
  {
   "cell_type": "code",
   "execution_count": null,
   "metadata": {},
   "outputs": [],
   "source": []
  }
 ],
 "metadata": {
  "kernelspec": {
   "display_name": "Python 2",
   "language": "python",
   "name": "python2"
  },
  "language_info": {
   "codemirror_mode": {
    "name": "ipython",
    "version": 2
   },
   "file_extension": ".py",
   "mimetype": "text/x-python",
   "name": "python",
   "nbconvert_exporter": "python",
   "pygments_lexer": "ipython2",
   "version": "2.7.14"
  }
 },
 "nbformat": 4,
 "nbformat_minor": 2
}
